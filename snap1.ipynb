{
  "nbformat": 4,
  "nbformat_minor": 0,
  "metadata": {
    "colab": {
      "provenance": [],
      "authorship_tag": "ABX9TyPrpSFhaK4mWr3Vf3/5pVio",
      "include_colab_link": true
    },
    "kernelspec": {
      "name": "python3",
      "display_name": "Python 3"
    },
    "language_info": {
      "name": "python"
    }
  },
  "cells": [
    {
      "cell_type": "markdown",
      "metadata": {
        "id": "view-in-github",
        "colab_type": "text"
      },
      "source": [
        "<a href=\"https://colab.research.google.com/github/Nithish-Chandra-Devarashetty/deepchem/blob/master/snap1.ipynb\" target=\"_parent\"><img src=\"https://colab.research.google.com/assets/colab-badge.svg\" alt=\"Open In Colab\"/></a>"
      ]
    },
    {
      "cell_type": "markdown",
      "source": [
        "#Using SNAPFeaturizer for Molecular Graph Representation\n",
        "Graph Neural Networks (GNNs) are powerful tools for molecular property prediction, as they naturally represent molecules as graphs. Each atom corresponds to a node, and bonds form the edges between them. To process molecular graphs, we need a featurizer that converts molecular structures into numerical representations. SNAPFeaturizer provides a simplified yet effective way to extract atomic and bond features.\n",
        "#Colab\n",
        "This tutorial and the rest in the sequences are designed to be done in Google colab. If you'd like to open this notebook in colab, you can use the following link.\n",
        "\n",
        "[![Open In Colab](https://colab.research.google.com/assets/colab-badge.svg)](https://colab.research.google.com/drive/1wSrOFG-_tkxW4hptDIIXFwxoeJwk9yUQ?usp=sharing)\n",
        "\n",
        "##Installing Dependencies\n",
        "Ensure you have DeepChem and RDKit installed. If not, install them using:"
      ],
      "metadata": {
        "id": "LnXqM1cgYMq6"
      }
    },
    {
      "cell_type": "code",
      "source": [
        "!pip install deepchem rdkit-pypi"
      ],
      "metadata": {
        "colab": {
          "base_uri": "https://localhost:8080/"
        },
        "collapsed": true,
        "id": "rCANYeA6YobJ",
        "outputId": "0dc82c17-18aa-4dd1-db9e-dc9a12029394"
      },
      "execution_count": null,
      "outputs": [
        {
          "output_type": "stream",
          "name": "stdout",
          "text": [
            "Collecting deepchem\n",
            "  Downloading deepchem-2.8.0-py3-none-any.whl.metadata (2.0 kB)\n",
            "Collecting rdkit-pypi\n",
            "  Downloading rdkit_pypi-2022.9.5-cp311-cp311-manylinux_2_17_x86_64.manylinux2014_x86_64.whl.metadata (3.9 kB)\n",
            "Requirement already satisfied: joblib in /usr/local/lib/python3.11/dist-packages (from deepchem) (1.4.2)\n",
            "Requirement already satisfied: numpy>=1.21 in /usr/local/lib/python3.11/dist-packages (from deepchem) (1.26.4)\n",
            "Requirement already satisfied: pandas in /usr/local/lib/python3.11/dist-packages (from deepchem) (2.2.2)\n",
            "Requirement already satisfied: scikit-learn in /usr/local/lib/python3.11/dist-packages (from deepchem) (1.6.1)\n",
            "Requirement already satisfied: sympy in /usr/local/lib/python3.11/dist-packages (from deepchem) (1.13.1)\n",
            "Requirement already satisfied: scipy>=1.10.1 in /usr/local/lib/python3.11/dist-packages (from deepchem) (1.13.1)\n",
            "Collecting rdkit (from deepchem)\n",
            "  Downloading rdkit-2024.9.5-cp311-cp311-manylinux_2_28_x86_64.whl.metadata (4.0 kB)\n",
            "Requirement already satisfied: Pillow in /usr/local/lib/python3.11/dist-packages (from rdkit-pypi) (11.1.0)\n",
            "Requirement already satisfied: python-dateutil>=2.8.2 in /usr/local/lib/python3.11/dist-packages (from pandas->deepchem) (2.8.2)\n",
            "Requirement already satisfied: pytz>=2020.1 in /usr/local/lib/python3.11/dist-packages (from pandas->deepchem) (2025.1)\n",
            "Requirement already satisfied: tzdata>=2022.7 in /usr/local/lib/python3.11/dist-packages (from pandas->deepchem) (2025.1)\n",
            "Requirement already satisfied: threadpoolctl>=3.1.0 in /usr/local/lib/python3.11/dist-packages (from scikit-learn->deepchem) (3.5.0)\n",
            "Requirement already satisfied: mpmath<1.4,>=1.1.0 in /usr/local/lib/python3.11/dist-packages (from sympy->deepchem) (1.3.0)\n",
            "Requirement already satisfied: six>=1.5 in /usr/local/lib/python3.11/dist-packages (from python-dateutil>=2.8.2->pandas->deepchem) (1.17.0)\n",
            "Downloading deepchem-2.8.0-py3-none-any.whl (1.0 MB)\n",
            "\u001b[2K   \u001b[90m━━━━━━━━━━━━━━━━━━━━━━━━━━━━━━━━━━━━━━━━\u001b[0m \u001b[32m1.0/1.0 MB\u001b[0m \u001b[31m11.1 MB/s\u001b[0m eta \u001b[36m0:00:00\u001b[0m\n",
            "\u001b[?25hDownloading rdkit_pypi-2022.9.5-cp311-cp311-manylinux_2_17_x86_64.manylinux2014_x86_64.whl (29.4 MB)\n",
            "\u001b[2K   \u001b[90m━━━━━━━━━━━━━━━━━━━━━━━━━━━━━━━━━━━━━━━━\u001b[0m \u001b[32m29.4/29.4 MB\u001b[0m \u001b[31m40.0 MB/s\u001b[0m eta \u001b[36m0:00:00\u001b[0m\n",
            "\u001b[?25hDownloading rdkit-2024.9.5-cp311-cp311-manylinux_2_28_x86_64.whl (34.3 MB)\n",
            "\u001b[2K   \u001b[90m━━━━━━━━━━━━━━━━━━━━━━━━━━━━━━━━━━━━━━━━\u001b[0m \u001b[32m34.3/34.3 MB\u001b[0m \u001b[31m21.6 MB/s\u001b[0m eta \u001b[36m0:00:00\u001b[0m\n",
            "\u001b[?25hInstalling collected packages: rdkit-pypi, rdkit, deepchem\n",
            "Successfully installed deepchem-2.8.0 rdkit-2024.9.5 rdkit-pypi-2022.9.5\n"
          ]
        }
      ]
    },
    {
      "cell_type": "markdown",
      "source": [
        "##Importing Required Libraries"
      ],
      "metadata": {
        "id": "PID2lH_WY9iM"
      }
    },
    {
      "cell_type": "code",
      "source": [
        "import deepchem as dc\n",
        "from deepchem.feat import SNAPFeaturizer\n",
        "from rdkit import Chem"
      ],
      "metadata": {
        "collapsed": true,
        "id": "zbsy0OTWZBsC"
      },
      "execution_count": null,
      "outputs": []
    },
    {
      "cell_type": "markdown",
      "source": [
        "##Understanding SNAPFeaturizer\n",
        "\n",
        "\n",
        "*   Atom features (atomic number, chirality).\n",
        "*   Bond features (bond type, bond direction)\n",
        "*   Graph connectivity (adjacency of atoms).\n",
        "\n",
        "###Example: Featurizing Aspirin\n",
        "Let's apply SNAPFeaturizer to aspirin (CC(=O)OC1=CC=CC=C1C(=O)O), a common pharmaceutical molecule.\n"
      ],
      "metadata": {
        "id": "lWc0OkgyZYsZ"
      }
    },
    {
      "cell_type": "code",
      "source": [
        "aspirin_smiles = \"CC(=O)OC1=CC=CC=C1C(=O)O\"\n",
        "\n",
        "aspirin_mol = Chem.MolFromSmiles(aspirin_smiles)\n",
        "\n",
        "featurizer = SNAPFeaturizer()\n",
        "\n",
        "graph_data = featurizer.featurize([aspirin_mol])\n",
        "\n",
        "print(graph_data)"
      ],
      "metadata": {
        "colab": {
          "base_uri": "https://localhost:8080/"
        },
        "id": "Lnv59CoOaB7U",
        "outputId": "fb3e9164-9dbe-453e-d04e-aa23bf0fce8e"
      },
      "execution_count": null,
      "outputs": [
        {
          "output_type": "stream",
          "name": "stdout",
          "text": [
            "[GraphData(node_features=[13, 2], edge_index=[2, 26], edge_features=[26, 2])]\n"
          ]
        }
      ]
    },
    {
      "cell_type": "markdown",
      "source": [
        "##Understanding the Output\n",
        "* node_features: Array of atomic features (shape: [num_atoms, 2]).\n",
        "* edge_index: Connectivity matrix (shape: [2, num_edges]).\n",
        "* edge_features: Bond attributes (shape: [num_edges, 2]).\n"
      ],
      "metadata": {
        "id": "EPgTBgWwaY6Q"
      }
    },
    {
      "cell_type": "code",
      "source": [
        "node_features = graph_data[0].node_features\n",
        "edge_index = graph_data[0].edge_index\n",
        "edge_features = graph_data[0].edge_features\n",
        "\n",
        "print(f\"Node Features Shape: {node_features.shape}\")\n",
        "print(f\"Edge Index Shape: {edge_index.shape}\")\n",
        "print(f\"Edge Features Shape: {edge_features.shape}\")"
      ],
      "metadata": {
        "colab": {
          "base_uri": "https://localhost:8080/"
        },
        "id": "1zM_cg67a7hL",
        "outputId": "ccda658d-cc0f-4a35-b9aa-9b35f4830544"
      },
      "execution_count": null,
      "outputs": [
        {
          "output_type": "stream",
          "name": "stdout",
          "text": [
            "Node Features Shape: (13, 2)\n",
            "Edge Index Shape: (2, 26)\n",
            "Edge Features Shape: (26, 2)\n"
          ]
        }
      ]
    },
    {
      "cell_type": "markdown",
      "source": [
        "##Interpreting Graph Representation\n",
        "* Node Features (num_atoms, 2): Each atom is represented by its atomic number and chirality.\n",
        "* Edge Index (2, num_edges): A connectivity matrix defining which atoms are connected.\n",
        "* Edge Features (num_edges, 2): Each bond is described by bond type and bond direction.\n",
        "\n",
        "\n",
        "\n",
        "##Conclusion\n",
        "SNAPFeaturizer converts molecules into graph representations that can be used as input for Graph Neural Networks (GNNs). This featurization is useful in applications like drug discovery and molecular property prediction."
      ],
      "metadata": {
        "id": "dccTU7JHcQr9"
      }
    }
  ]
}